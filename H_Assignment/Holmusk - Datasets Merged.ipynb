{
 "cells": [
  {
   "cell_type": "code",
   "execution_count": 1,
   "metadata": {},
   "outputs": [],
   "source": [
    "import numpy as np\n",
    "import scipy as sp\n",
    "import pandas as pd\n",
    "import seaborn as sns\n",
    "import matplotlib.pyplot as plt\n",
    "\n",
    "import os \n",
    "import sys\n",
    "import datetime as DT\n",
    "\n",
    "os.chdir(r'C:\\Users\\Asus\\Documents\\Holmusk data\\datasciencepositionatholmusk')\n",
    "bill_amount = pd.read_csv('bill_amount.csv')\n",
    "bill_id = pd.read_csv('bill_id.csv')\n",
    "clinical_data = pd.read_csv('clinical_data.csv')\n",
    "demo = pd.read_csv('demographics.csv')"
   ]
  },
  {
   "cell_type": "code",
   "execution_count": 2,
   "metadata": {},
   "outputs": [],
   "source": [
    "#convert to lowercase for ease of application\n",
    "demo.gender = demo.gender.apply(lambda x: x.lower())"
   ]
  },
  {
   "cell_type": "code",
   "execution_count": 3,
   "metadata": {},
   "outputs": [],
   "source": [
    "demo.race = demo.race.apply(lambda x: x.lower())"
   ]
  },
  {
   "cell_type": "code",
   "execution_count": 4,
   "metadata": {},
   "outputs": [],
   "source": [
    "demo.resident_status = demo.resident_status.apply(lambda x: x.lower())"
   ]
  },
  {
   "cell_type": "code",
   "execution_count": 5,
   "metadata": {},
   "outputs": [
    {
     "data": {
      "text/plain": [
       "female    1396\n",
       "male      1333\n",
       "m          170\n",
       "f          101\n",
       "Name: gender, dtype: int64"
      ]
     },
     "execution_count": 5,
     "metadata": {},
     "output_type": "execute_result"
    }
   ],
   "source": [
    "demo.gender.value_counts()"
   ]
  },
  {
   "cell_type": "code",
   "execution_count": 6,
   "metadata": {},
   "outputs": [
    {
     "data": {
      "text/plain": [
       "chinese    1915\n",
       "malay       629\n",
       "indian      195\n",
       "others      161\n",
       "india       100\n",
       "Name: race, dtype: int64"
      ]
     },
     "execution_count": 6,
     "metadata": {},
     "output_type": "execute_result"
    }
   ],
   "source": [
    "demo.race.value_counts()"
   ]
  },
  {
   "cell_type": "code",
   "execution_count": 7,
   "metadata": {},
   "outputs": [
    {
     "data": {
      "text/plain": [
       "singaporean          1782\n",
       "singapore citizen     610\n",
       "pr                    465\n",
       "foreigner             143\n",
       "Name: resident_status, dtype: int64"
      ]
     },
     "execution_count": 7,
     "metadata": {},
     "output_type": "execute_result"
    }
   ],
   "source": [
    "demo.resident_status.value_counts()"
   ]
  },
  {
   "cell_type": "code",
   "execution_count": 8,
   "metadata": {},
   "outputs": [],
   "source": [
    "demo.gender = demo.gender.apply(lambda x: 'male' if x == 'm' else('female' if x == 'f' else (x)))"
   ]
  },
  {
   "cell_type": "code",
   "execution_count": 9,
   "metadata": {},
   "outputs": [],
   "source": [
    "demo.race = demo.race.apply(lambda x: 'indian' if x == 'india' else(x))"
   ]
  },
  {
   "cell_type": "code",
   "execution_count": 10,
   "metadata": {},
   "outputs": [],
   "source": [
    "demo.resident_status = demo.resident_status.apply(lambda x: 'singaporean' if x == 'singapore citizen' else(x))"
   ]
  },
  {
   "cell_type": "code",
   "execution_count": 11,
   "metadata": {},
   "outputs": [],
   "source": [
    "demo.date_of_birth = demo.date_of_birth.astype('datetime64')"
   ]
  },
  {
   "cell_type": "code",
   "execution_count": 12,
   "metadata": {},
   "outputs": [],
   "source": [
    "now = pd.to_datetime('today').year\n",
    "demo['age'] = now - demo.date_of_birth.dt.year"
   ]
  },
  {
   "cell_type": "code",
   "execution_count": 13,
   "metadata": {},
   "outputs": [],
   "source": [
    "demo = demo.drop('date_of_birth', axis =1)"
   ]
  },
  {
   "cell_type": "code",
   "execution_count": 14,
   "metadata": {},
   "outputs": [],
   "source": [
    "demo = demo.set_index('patient_id')"
   ]
  },
  {
   "cell_type": "code",
   "execution_count": 15,
   "metadata": {},
   "outputs": [],
   "source": [
    "clinical_data = clinical_data.sort_values(['id', 'date_of_admission'])"
   ]
  },
  {
   "cell_type": "code",
   "execution_count": 16,
   "metadata": {},
   "outputs": [],
   "source": [
    "cd_dup = clinical_data[[not i for i in clinical_data.duplicated(subset = ['id'])]]"
   ]
  },
  {
   "cell_type": "code",
   "execution_count": 17,
   "metadata": {},
   "outputs": [],
   "source": [
    "cd_dup = cd_dup.fillna(value = 0)"
   ]
  },
  {
   "cell_type": "code",
   "execution_count": 18,
   "metadata": {},
   "outputs": [],
   "source": [
    "cd_dup.medical_history_3 = cd_dup.medical_history_3.apply(lambda x: x if type(x) == int else (1 if x == 'Yes' else (0)))"
   ]
  },
  {
   "cell_type": "code",
   "execution_count": 19,
   "metadata": {},
   "outputs": [],
   "source": [
    "cd_dup.medical_history_2 = cd_dup.medical_history_2.astype('int64')\n",
    "cd_dup.medical_history_5 = cd_dup.medical_history_5.astype('int64')"
   ]
  },
  {
   "cell_type": "code",
   "execution_count": 20,
   "metadata": {},
   "outputs": [],
   "source": [
    "cd_dup.date_of_admission = cd_dup.date_of_admission.astype('datetime64')\n",
    "cd_dup.date_of_discharge = cd_dup.date_of_discharge.astype('datetime64')"
   ]
  },
  {
   "cell_type": "code",
   "execution_count": 21,
   "metadata": {},
   "outputs": [],
   "source": [
    "cd_dup['inpatient_D'] = (cd_dup.date_of_discharge - cd_dup.date_of_admission).dt.days"
   ]
  },
  {
   "cell_type": "code",
   "execution_count": 22,
   "metadata": {},
   "outputs": [],
   "source": [
    "cd_dup['BMI'] = (cd_dup.weight/(cd_dup.height*cd_dup.height) * 10000)"
   ]
  },
  {
   "cell_type": "code",
   "execution_count": 23,
   "metadata": {},
   "outputs": [],
   "source": [
    "cd_dup = cd_dup.drop(['date_of_discharge', 'weight', 'height'], axis =1)"
   ]
  },
  {
   "cell_type": "code",
   "execution_count": 24,
   "metadata": {},
   "outputs": [],
   "source": [
    "cd_dup = cd_dup.set_index('id')"
   ]
  },
  {
   "cell_type": "code",
   "execution_count": 25,
   "metadata": {},
   "outputs": [],
   "source": [
    "joined = cd_dup.merge(demo, left_index = True, right_index = True)"
   ]
  },
  {
   "cell_type": "code",
   "execution_count": 26,
   "metadata": {},
   "outputs": [
    {
     "data": {
      "text/html": [
       "<div>\n",
       "<style scoped>\n",
       "    .dataframe tbody tr th:only-of-type {\n",
       "        vertical-align: middle;\n",
       "    }\n",
       "\n",
       "    .dataframe tbody tr th {\n",
       "        vertical-align: top;\n",
       "    }\n",
       "\n",
       "    .dataframe thead th {\n",
       "        text-align: right;\n",
       "    }\n",
       "</style>\n",
       "<table border=\"1\" class=\"dataframe\">\n",
       "  <thead>\n",
       "    <tr style=\"text-align: right;\">\n",
       "      <th></th>\n",
       "      <th>bill_id</th>\n",
       "      <th>date_of_admission</th>\n",
       "    </tr>\n",
       "    <tr>\n",
       "      <th>patient_id</th>\n",
       "      <th></th>\n",
       "      <th></th>\n",
       "    </tr>\n",
       "  </thead>\n",
       "  <tbody>\n",
       "    <tr>\n",
       "      <th>00225710a878eff524a1d13be817e8e2</th>\n",
       "      <td>8461069832</td>\n",
       "      <td>2014-04-10</td>\n",
       "    </tr>\n",
       "    <tr>\n",
       "      <th>00225710a878eff524a1d13be817e8e2</th>\n",
       "      <td>7746811189</td>\n",
       "      <td>2014-04-10</td>\n",
       "    </tr>\n",
       "    <tr>\n",
       "      <th>00225710a878eff524a1d13be817e8e2</th>\n",
       "      <td>4692776325</td>\n",
       "      <td>2014-04-10</td>\n",
       "    </tr>\n",
       "    <tr>\n",
       "      <th>00225710a878eff524a1d13be817e8e2</th>\n",
       "      <td>5175703971</td>\n",
       "      <td>2014-04-10</td>\n",
       "    </tr>\n",
       "    <tr>\n",
       "      <th>0029d90eb654699c18001c17efb0f129</th>\n",
       "      <td>3604841170</td>\n",
       "      <td>2012-11-07</td>\n",
       "    </tr>\n",
       "    <tr>\n",
       "      <th>0029d90eb654699c18001c17efb0f129</th>\n",
       "      <td>5621737529</td>\n",
       "      <td>2012-11-07</td>\n",
       "    </tr>\n",
       "    <tr>\n",
       "      <th>0029d90eb654699c18001c17efb0f129</th>\n",
       "      <td>5041212157</td>\n",
       "      <td>2012-11-07</td>\n",
       "    </tr>\n",
       "    <tr>\n",
       "      <th>0029d90eb654699c18001c17efb0f129</th>\n",
       "      <td>645202091</td>\n",
       "      <td>2012-11-07</td>\n",
       "    </tr>\n",
       "    <tr>\n",
       "      <th>0040333abd68527ecb53e1db9073f52e</th>\n",
       "      <td>167943546</td>\n",
       "      <td>2013-01-19</td>\n",
       "    </tr>\n",
       "    <tr>\n",
       "      <th>0040333abd68527ecb53e1db9073f52e</th>\n",
       "      <td>7549837665</td>\n",
       "      <td>2013-01-19</td>\n",
       "    </tr>\n",
       "    <tr>\n",
       "      <th>0040333abd68527ecb53e1db9073f52e</th>\n",
       "      <td>9921582850</td>\n",
       "      <td>2013-01-19</td>\n",
       "    </tr>\n",
       "    <tr>\n",
       "      <th>0040333abd68527ecb53e1db9073f52e</th>\n",
       "      <td>8199801360</td>\n",
       "      <td>2013-01-19</td>\n",
       "    </tr>\n",
       "    <tr>\n",
       "      <th>00473b58e3dc8ae37b3cb34069705083</th>\n",
       "      <td>7239419545</td>\n",
       "      <td>2014-02-10</td>\n",
       "    </tr>\n",
       "    <tr>\n",
       "      <th>00473b58e3dc8ae37b3cb34069705083</th>\n",
       "      <td>3108812506</td>\n",
       "      <td>2014-02-10</td>\n",
       "    </tr>\n",
       "    <tr>\n",
       "      <th>00473b58e3dc8ae37b3cb34069705083</th>\n",
       "      <td>5492890584</td>\n",
       "      <td>2014-02-10</td>\n",
       "    </tr>\n",
       "    <tr>\n",
       "      <th>00473b58e3dc8ae37b3cb34069705083</th>\n",
       "      <td>2831040803</td>\n",
       "      <td>2014-02-10</td>\n",
       "    </tr>\n",
       "    <tr>\n",
       "      <th>0078662d1d983dde68ea057c42d5b5cf</th>\n",
       "      <td>9476531069</td>\n",
       "      <td>2012-04-28</td>\n",
       "    </tr>\n",
       "    <tr>\n",
       "      <th>0078662d1d983dde68ea057c42d5b5cf</th>\n",
       "      <td>4580228676</td>\n",
       "      <td>2012-04-28</td>\n",
       "    </tr>\n",
       "    <tr>\n",
       "      <th>0078662d1d983dde68ea057c42d5b5cf</th>\n",
       "      <td>7289756776</td>\n",
       "      <td>2012-04-28</td>\n",
       "    </tr>\n",
       "    <tr>\n",
       "      <th>0078662d1d983dde68ea057c42d5b5cf</th>\n",
       "      <td>6208929668</td>\n",
       "      <td>2012-04-28</td>\n",
       "    </tr>\n",
       "    <tr>\n",
       "      <th>0088bbd94c90bbc9158e13465441ebb6</th>\n",
       "      <td>2127692752</td>\n",
       "      <td>2015-11-05</td>\n",
       "    </tr>\n",
       "    <tr>\n",
       "      <th>0088bbd94c90bbc9158e13465441ebb6</th>\n",
       "      <td>9839868745</td>\n",
       "      <td>2015-11-05</td>\n",
       "    </tr>\n",
       "    <tr>\n",
       "      <th>0088bbd94c90bbc9158e13465441ebb6</th>\n",
       "      <td>8244828782</td>\n",
       "      <td>2015-11-05</td>\n",
       "    </tr>\n",
       "    <tr>\n",
       "      <th>0088bbd94c90bbc9158e13465441ebb6</th>\n",
       "      <td>3073145832</td>\n",
       "      <td>2015-11-05</td>\n",
       "    </tr>\n",
       "    <tr>\n",
       "      <th>0092d20dd0719e88ecfdd02d5e7ca7b7</th>\n",
       "      <td>6475640623</td>\n",
       "      <td>2013-01-20</td>\n",
       "    </tr>\n",
       "    <tr>\n",
       "      <th>0092d20dd0719e88ecfdd02d5e7ca7b7</th>\n",
       "      <td>8770011184</td>\n",
       "      <td>2013-01-20</td>\n",
       "    </tr>\n",
       "    <tr>\n",
       "      <th>0092d20dd0719e88ecfdd02d5e7ca7b7</th>\n",
       "      <td>5424397887</td>\n",
       "      <td>2013-01-20</td>\n",
       "    </tr>\n",
       "    <tr>\n",
       "      <th>0092d20dd0719e88ecfdd02d5e7ca7b7</th>\n",
       "      <td>7555504451</td>\n",
       "      <td>2013-01-20</td>\n",
       "    </tr>\n",
       "    <tr>\n",
       "      <th>01081b8bcb0f9e27b888d23bb35a50dd</th>\n",
       "      <td>1089361296</td>\n",
       "      <td>2011-02-02</td>\n",
       "    </tr>\n",
       "    <tr>\n",
       "      <th>01081b8bcb0f9e27b888d23bb35a50dd</th>\n",
       "      <td>5844244730</td>\n",
       "      <td>2011-02-02</td>\n",
       "    </tr>\n",
       "    <tr>\n",
       "      <th>...</th>\n",
       "      <td>...</td>\n",
       "      <td>...</td>\n",
       "    </tr>\n",
       "    <tr>\n",
       "      <th>ff78b422b8c6b83e40f11ca7d62da682</th>\n",
       "      <td>4819028683</td>\n",
       "      <td>2013-04-25</td>\n",
       "    </tr>\n",
       "    <tr>\n",
       "      <th>ff78b422b8c6b83e40f11ca7d62da682</th>\n",
       "      <td>3509311233</td>\n",
       "      <td>2013-04-25</td>\n",
       "    </tr>\n",
       "    <tr>\n",
       "      <th>ff7a523f1dbd0385e731b4185cf64683</th>\n",
       "      <td>2381476995</td>\n",
       "      <td>2015-03-16</td>\n",
       "    </tr>\n",
       "    <tr>\n",
       "      <th>ff7a523f1dbd0385e731b4185cf64683</th>\n",
       "      <td>3726043063</td>\n",
       "      <td>2015-03-16</td>\n",
       "    </tr>\n",
       "    <tr>\n",
       "      <th>ff7a523f1dbd0385e731b4185cf64683</th>\n",
       "      <td>1582508538</td>\n",
       "      <td>2015-03-16</td>\n",
       "    </tr>\n",
       "    <tr>\n",
       "      <th>ff7a523f1dbd0385e731b4185cf64683</th>\n",
       "      <td>3972571344</td>\n",
       "      <td>2014-11-09</td>\n",
       "    </tr>\n",
       "    <tr>\n",
       "      <th>ff7a523f1dbd0385e731b4185cf64683</th>\n",
       "      <td>8871736386</td>\n",
       "      <td>2014-11-09</td>\n",
       "    </tr>\n",
       "    <tr>\n",
       "      <th>ff7a523f1dbd0385e731b4185cf64683</th>\n",
       "      <td>641768445</td>\n",
       "      <td>2015-03-16</td>\n",
       "    </tr>\n",
       "    <tr>\n",
       "      <th>ff7a523f1dbd0385e731b4185cf64683</th>\n",
       "      <td>9863869454</td>\n",
       "      <td>2014-11-09</td>\n",
       "    </tr>\n",
       "    <tr>\n",
       "      <th>ff7a523f1dbd0385e731b4185cf64683</th>\n",
       "      <td>7046020991</td>\n",
       "      <td>2014-11-09</td>\n",
       "    </tr>\n",
       "    <tr>\n",
       "      <th>ffa5a615a4cc5fb1ada0443edc1f5dd3</th>\n",
       "      <td>6517649270</td>\n",
       "      <td>2011-04-24</td>\n",
       "    </tr>\n",
       "    <tr>\n",
       "      <th>ffa5a615a4cc5fb1ada0443edc1f5dd3</th>\n",
       "      <td>2807666024</td>\n",
       "      <td>2011-04-24</td>\n",
       "    </tr>\n",
       "    <tr>\n",
       "      <th>ffa5a615a4cc5fb1ada0443edc1f5dd3</th>\n",
       "      <td>9308767013</td>\n",
       "      <td>2011-04-24</td>\n",
       "    </tr>\n",
       "    <tr>\n",
       "      <th>ffa5a615a4cc5fb1ada0443edc1f5dd3</th>\n",
       "      <td>9731377750</td>\n",
       "      <td>2011-04-24</td>\n",
       "    </tr>\n",
       "    <tr>\n",
       "      <th>ffac3c4b6838f42625e1dd00dd7c867b</th>\n",
       "      <td>459712708</td>\n",
       "      <td>2015-11-28</td>\n",
       "    </tr>\n",
       "    <tr>\n",
       "      <th>ffac3c4b6838f42625e1dd00dd7c867b</th>\n",
       "      <td>4741764838</td>\n",
       "      <td>2015-11-28</td>\n",
       "    </tr>\n",
       "    <tr>\n",
       "      <th>ffac3c4b6838f42625e1dd00dd7c867b</th>\n",
       "      <td>5003178012</td>\n",
       "      <td>2015-11-28</td>\n",
       "    </tr>\n",
       "    <tr>\n",
       "      <th>ffac3c4b6838f42625e1dd00dd7c867b</th>\n",
       "      <td>1794955297</td>\n",
       "      <td>2015-11-28</td>\n",
       "    </tr>\n",
       "    <tr>\n",
       "      <th>ffc19537fa6621512ef4f296d60896ce</th>\n",
       "      <td>4390614940</td>\n",
       "      <td>2013-05-05</td>\n",
       "    </tr>\n",
       "    <tr>\n",
       "      <th>ffc19537fa6621512ef4f296d60896ce</th>\n",
       "      <td>5687796410</td>\n",
       "      <td>2013-05-05</td>\n",
       "    </tr>\n",
       "    <tr>\n",
       "      <th>ffc19537fa6621512ef4f296d60896ce</th>\n",
       "      <td>61352096</td>\n",
       "      <td>2013-05-05</td>\n",
       "    </tr>\n",
       "    <tr>\n",
       "      <th>ffc19537fa6621512ef4f296d60896ce</th>\n",
       "      <td>2644289787</td>\n",
       "      <td>2013-05-05</td>\n",
       "    </tr>\n",
       "    <tr>\n",
       "      <th>ffd67c2bcfb32508d2cf7b1e1193e2ed</th>\n",
       "      <td>5401991269</td>\n",
       "      <td>2012-12-24</td>\n",
       "    </tr>\n",
       "    <tr>\n",
       "      <th>ffd67c2bcfb32508d2cf7b1e1193e2ed</th>\n",
       "      <td>6816431451</td>\n",
       "      <td>2012-12-24</td>\n",
       "    </tr>\n",
       "    <tr>\n",
       "      <th>ffd67c2bcfb32508d2cf7b1e1193e2ed</th>\n",
       "      <td>2161861615</td>\n",
       "      <td>2012-12-24</td>\n",
       "    </tr>\n",
       "    <tr>\n",
       "      <th>ffd67c2bcfb32508d2cf7b1e1193e2ed</th>\n",
       "      <td>4479145827</td>\n",
       "      <td>2012-12-24</td>\n",
       "    </tr>\n",
       "    <tr>\n",
       "      <th>ffd9644f8daf1d28493a7cd700bb30f4</th>\n",
       "      <td>7388693307</td>\n",
       "      <td>2013-06-04</td>\n",
       "    </tr>\n",
       "    <tr>\n",
       "      <th>ffd9644f8daf1d28493a7cd700bb30f4</th>\n",
       "      <td>6862282934</td>\n",
       "      <td>2013-06-04</td>\n",
       "    </tr>\n",
       "    <tr>\n",
       "      <th>ffd9644f8daf1d28493a7cd700bb30f4</th>\n",
       "      <td>7406466784</td>\n",
       "      <td>2013-06-04</td>\n",
       "    </tr>\n",
       "    <tr>\n",
       "      <th>ffd9644f8daf1d28493a7cd700bb30f4</th>\n",
       "      <td>7767844278</td>\n",
       "      <td>2013-06-04</td>\n",
       "    </tr>\n",
       "  </tbody>\n",
       "</table>\n",
       "<p>13600 rows × 2 columns</p>\n",
       "</div>"
      ],
      "text/plain": [
       "                                     bill_id date_of_admission\n",
       "patient_id                                                    \n",
       "00225710a878eff524a1d13be817e8e2  8461069832        2014-04-10\n",
       "00225710a878eff524a1d13be817e8e2  7746811189        2014-04-10\n",
       "00225710a878eff524a1d13be817e8e2  4692776325        2014-04-10\n",
       "00225710a878eff524a1d13be817e8e2  5175703971        2014-04-10\n",
       "0029d90eb654699c18001c17efb0f129  3604841170        2012-11-07\n",
       "0029d90eb654699c18001c17efb0f129  5621737529        2012-11-07\n",
       "0029d90eb654699c18001c17efb0f129  5041212157        2012-11-07\n",
       "0029d90eb654699c18001c17efb0f129   645202091        2012-11-07\n",
       "0040333abd68527ecb53e1db9073f52e   167943546        2013-01-19\n",
       "0040333abd68527ecb53e1db9073f52e  7549837665        2013-01-19\n",
       "0040333abd68527ecb53e1db9073f52e  9921582850        2013-01-19\n",
       "0040333abd68527ecb53e1db9073f52e  8199801360        2013-01-19\n",
       "00473b58e3dc8ae37b3cb34069705083  7239419545        2014-02-10\n",
       "00473b58e3dc8ae37b3cb34069705083  3108812506        2014-02-10\n",
       "00473b58e3dc8ae37b3cb34069705083  5492890584        2014-02-10\n",
       "00473b58e3dc8ae37b3cb34069705083  2831040803        2014-02-10\n",
       "0078662d1d983dde68ea057c42d5b5cf  9476531069        2012-04-28\n",
       "0078662d1d983dde68ea057c42d5b5cf  4580228676        2012-04-28\n",
       "0078662d1d983dde68ea057c42d5b5cf  7289756776        2012-04-28\n",
       "0078662d1d983dde68ea057c42d5b5cf  6208929668        2012-04-28\n",
       "0088bbd94c90bbc9158e13465441ebb6  2127692752        2015-11-05\n",
       "0088bbd94c90bbc9158e13465441ebb6  9839868745        2015-11-05\n",
       "0088bbd94c90bbc9158e13465441ebb6  8244828782        2015-11-05\n",
       "0088bbd94c90bbc9158e13465441ebb6  3073145832        2015-11-05\n",
       "0092d20dd0719e88ecfdd02d5e7ca7b7  6475640623        2013-01-20\n",
       "0092d20dd0719e88ecfdd02d5e7ca7b7  8770011184        2013-01-20\n",
       "0092d20dd0719e88ecfdd02d5e7ca7b7  5424397887        2013-01-20\n",
       "0092d20dd0719e88ecfdd02d5e7ca7b7  7555504451        2013-01-20\n",
       "01081b8bcb0f9e27b888d23bb35a50dd  1089361296        2011-02-02\n",
       "01081b8bcb0f9e27b888d23bb35a50dd  5844244730        2011-02-02\n",
       "...                                      ...               ...\n",
       "ff78b422b8c6b83e40f11ca7d62da682  4819028683        2013-04-25\n",
       "ff78b422b8c6b83e40f11ca7d62da682  3509311233        2013-04-25\n",
       "ff7a523f1dbd0385e731b4185cf64683  2381476995        2015-03-16\n",
       "ff7a523f1dbd0385e731b4185cf64683  3726043063        2015-03-16\n",
       "ff7a523f1dbd0385e731b4185cf64683  1582508538        2015-03-16\n",
       "ff7a523f1dbd0385e731b4185cf64683  3972571344        2014-11-09\n",
       "ff7a523f1dbd0385e731b4185cf64683  8871736386        2014-11-09\n",
       "ff7a523f1dbd0385e731b4185cf64683   641768445        2015-03-16\n",
       "ff7a523f1dbd0385e731b4185cf64683  9863869454        2014-11-09\n",
       "ff7a523f1dbd0385e731b4185cf64683  7046020991        2014-11-09\n",
       "ffa5a615a4cc5fb1ada0443edc1f5dd3  6517649270        2011-04-24\n",
       "ffa5a615a4cc5fb1ada0443edc1f5dd3  2807666024        2011-04-24\n",
       "ffa5a615a4cc5fb1ada0443edc1f5dd3  9308767013        2011-04-24\n",
       "ffa5a615a4cc5fb1ada0443edc1f5dd3  9731377750        2011-04-24\n",
       "ffac3c4b6838f42625e1dd00dd7c867b   459712708        2015-11-28\n",
       "ffac3c4b6838f42625e1dd00dd7c867b  4741764838        2015-11-28\n",
       "ffac3c4b6838f42625e1dd00dd7c867b  5003178012        2015-11-28\n",
       "ffac3c4b6838f42625e1dd00dd7c867b  1794955297        2015-11-28\n",
       "ffc19537fa6621512ef4f296d60896ce  4390614940        2013-05-05\n",
       "ffc19537fa6621512ef4f296d60896ce  5687796410        2013-05-05\n",
       "ffc19537fa6621512ef4f296d60896ce    61352096        2013-05-05\n",
       "ffc19537fa6621512ef4f296d60896ce  2644289787        2013-05-05\n",
       "ffd67c2bcfb32508d2cf7b1e1193e2ed  5401991269        2012-12-24\n",
       "ffd67c2bcfb32508d2cf7b1e1193e2ed  6816431451        2012-12-24\n",
       "ffd67c2bcfb32508d2cf7b1e1193e2ed  2161861615        2012-12-24\n",
       "ffd67c2bcfb32508d2cf7b1e1193e2ed  4479145827        2012-12-24\n",
       "ffd9644f8daf1d28493a7cd700bb30f4  7388693307        2013-06-04\n",
       "ffd9644f8daf1d28493a7cd700bb30f4  6862282934        2013-06-04\n",
       "ffd9644f8daf1d28493a7cd700bb30f4  7406466784        2013-06-04\n",
       "ffd9644f8daf1d28493a7cd700bb30f4  7767844278        2013-06-04\n",
       "\n",
       "[13600 rows x 2 columns]"
      ]
     },
     "execution_count": 26,
     "metadata": {},
     "output_type": "execute_result"
    }
   ],
   "source": [
    "bill_id['patient_id'] = bill_id.patient_id.astype(str)\n",
    "bill_id.set_index('patient_id').sort_index()"
   ]
  },
  {
   "cell_type": "code",
   "execution_count": 27,
   "metadata": {},
   "outputs": [],
   "source": [
    "bill = pd.merge(bill_id, bill_amount, on = 'bill_id')"
   ]
  },
  {
   "cell_type": "code",
   "execution_count": 28,
   "metadata": {},
   "outputs": [],
   "source": [
    "bill = bill.set_index('patient_id', 'date_of_admission').sort_index()"
   ]
  },
  {
   "cell_type": "code",
   "execution_count": 29,
   "metadata": {},
   "outputs": [],
   "source": [
    "bill = bill.drop('bill_id', axis =1 )"
   ]
  },
  {
   "cell_type": "code",
   "execution_count": 30,
   "metadata": {},
   "outputs": [],
   "source": [
    "bg = bill.groupby(['patient_id', 'date_of_admission']).amount.sum()"
   ]
  },
  {
   "cell_type": "code",
   "execution_count": 31,
   "metadata": {},
   "outputs": [],
   "source": [
    "bg_ri = bg.reset_index()"
   ]
  },
  {
   "cell_type": "code",
   "execution_count": 32,
   "metadata": {},
   "outputs": [],
   "source": [
    "bg_first = bg_ri[[not i for i in bg_ri.duplicated(subset = 'patient_id')]]"
   ]
  },
  {
   "cell_type": "code",
   "execution_count": 33,
   "metadata": {},
   "outputs": [],
   "source": [
    "bg_first = bg_first.set_index('patient_id')"
   ]
  },
  {
   "cell_type": "code",
   "execution_count": 34,
   "metadata": {},
   "outputs": [],
   "source": [
    "merged = joined.merge(bg_first, left_index = True, right_index = True)"
   ]
  },
  {
   "cell_type": "code",
   "execution_count": 35,
   "metadata": {},
   "outputs": [],
   "source": [
    "merged = merged.drop(['date_of_admission_x', 'date_of_admission_y'], axis = 1)"
   ]
  },
  {
   "cell_type": "code",
   "execution_count": 36,
   "metadata": {},
   "outputs": [
    {
     "name": "stderr",
     "output_type": "stream",
     "text": [
      "C:\\Users\\Asus\\Anaconda3\\envs\\tensorflow\\lib\\site-packages\\matplotlib\\axes\\_axes.py:6462: UserWarning: The 'normed' kwarg is deprecated, and has been replaced by the 'density' kwarg.\n",
      "  warnings.warn(\"The 'normed' kwarg is deprecated, and has been \"\n"
     ]
    },
    {
     "data": {
      "image/png": "[encoded data removed]",
      "text/plain": [
       "<Figure size 432x288 with 1 Axes>"
      ]
     },
     "metadata": {},
     "output_type": "display_data"
    }
   ],
   "source": [
    "distPlot = sns.distplot(merged['amount'])\n",
    "plt.title(\"Distribution of cost\")\n",
    "plt.show()"
   ]
  },
  {
   "cell_type": "code",
   "execution_count": 37,
   "metadata": {},
   "outputs": [
    {
     "data": {
      "text/plain": [
       "count     3000.000000\n",
       "mean     21798.335703\n",
       "std      10161.000119\n",
       "min       2946.100354\n",
       "25%      14665.890997\n",
       "50%      20101.522184\n",
       "75%      26733.192619\n",
       "max      98120.870207\n",
       "Name: amount, dtype: float64"
      ]
     },
     "execution_count": 37,
     "metadata": {},
     "output_type": "execute_result"
    }
   ],
   "source": [
    "merged.amount.describe()\n",
    "#NOTE: Handle outlier cases & assess for need to do log transformation"
   ]
  },
  {
   "cell_type": "code",
   "execution_count": 38,
   "metadata": {},
   "outputs": [
    {
     "name": "stderr",
     "output_type": "stream",
     "text": [
      "C:\\Users\\Asus\\Anaconda3\\envs\\tensorflow\\lib\\site-packages\\matplotlib\\axes\\_axes.py:6462: UserWarning: The 'normed' kwarg is deprecated, and has been replaced by the 'density' kwarg.\n",
      "  warnings.warn(\"The 'normed' kwarg is deprecated, and has been \"\n"
     ]
    },
    {
     "data": {
      "image/png": "[encoded data removed]",
      "text/plain": [
       "<Figure size 432x288 with 1 Axes>"
      ]
     },
     "metadata": {},
     "output_type": "display_data"
    }
   ],
   "source": [
    "distPlot_inD = sns.distplot(merged['inpatient_D'])\n",
    "plt.title(\"Distribution of inpatient duration\")\n",
    "plt.show()"
   ]
  },
  {
   "cell_type": "code",
   "execution_count": 48,
   "metadata": {},
   "outputs": [
    {
     "data": {
      "text/plain": [
       "count    3000.000000\n",
       "mean       11.078667\n",
       "std         2.855497\n",
       "min         1.000000\n",
       "25%         9.000000\n",
       "50%        11.000000\n",
       "75%        13.000000\n",
       "max        20.000000\n",
       "Name: inpatient_D, dtype: float64"
      ]
     },
     "execution_count": 48,
     "metadata": {},
     "output_type": "execute_result"
    }
   ],
   "source": [
    "merged.inpatient_D.describe()"
   ]
  },
  {
   "cell_type": "code",
   "execution_count": 39,
   "metadata": {},
   "outputs": [
    {
     "name": "stderr",
     "output_type": "stream",
     "text": [
      "C:\\Users\\Asus\\Anaconda3\\envs\\tensorflow\\lib\\site-packages\\matplotlib\\axes\\_axes.py:6462: UserWarning: The 'normed' kwarg is deprecated, and has been replaced by the 'density' kwarg.\n",
      "  warnings.warn(\"The 'normed' kwarg is deprecated, and has been \"\n"
     ]
    },
    {
     "data": {
      "image/png": "[encoded data removed]",
      "text/plain": [
       "<Figure size 432x288 with 1 Axes>"
      ]
     },
     "metadata": {},
     "output_type": "display_data"
    }
   ],
   "source": [
    "distPlot_bmi = sns.distplot(merged['BMI'])\n",
    "plt.title(\"Distribution of BMI\")\n",
    "plt.show()"
   ]
  },
  {
   "cell_type": "code",
   "execution_count": 40,
   "metadata": {},
   "outputs": [
    {
     "data": {
      "text/plain": [
       "count    3000.000000\n",
       "mean       28.955222\n",
       "std         4.144775\n",
       "min        17.508651\n",
       "25%        26.161927\n",
       "50%        28.921908\n",
       "75%        31.675212\n",
       "max        46.677349\n",
       "Name: BMI, dtype: float64"
      ]
     },
     "execution_count": 40,
     "metadata": {},
     "output_type": "execute_result"
    }
   ],
   "source": [
    "merged.BMI.describe()"
   ]
  },
  {
   "cell_type": "code",
   "execution_count": 43,
   "metadata": {},
   "outputs": [
    {
     "ename": "TypeError",
     "evalue": "'AxesSubplot' object does not support indexing",
     "output_type": "error",
     "traceback": [
      "\u001b[1;31m---------------------------------------------------------------------------\u001b[0m",
      "\u001b[1;31mTypeError\u001b[0m                                 Traceback (most recent call last)",
      "\u001b[1;32m<ipython-input-43-c4eafdb298e8>\u001b[0m in \u001b[0;36m<module>\u001b[1;34m()\u001b[0m\n\u001b[0;32m      1\u001b[0m \u001b[0mfig\u001b[0m\u001b[1;33m,\u001b[0m \u001b[0max\u001b[0m \u001b[1;33m=\u001b[0m \u001b[0mplt\u001b[0m\u001b[1;33m.\u001b[0m\u001b[0msubplots\u001b[0m\u001b[1;33m(\u001b[0m\u001b[0mncols\u001b[0m \u001b[1;33m=\u001b[0m \u001b[1;36m3\u001b[0m\u001b[1;33m,\u001b[0m \u001b[0mnrows\u001b[0m \u001b[1;33m=\u001b[0m\u001b[1;36m1\u001b[0m\u001b[1;33m)\u001b[0m\u001b[1;33m\u001b[0m\u001b[0m\n\u001b[1;32m----> 2\u001b[1;33m \u001b[0max\u001b[0m\u001b[1;33m[\u001b[0m\u001b[1;36m0\u001b[0m\u001b[1;33m]\u001b[0m\u001b[1;33m[\u001b[0m\u001b[1;36m0\u001b[0m\u001b[1;33m]\u001b[0m\u001b[1;33m.\u001b[0m\u001b[0mset_title\u001b[0m\u001b[1;33m(\u001b[0m\u001b[1;34m'Lab Test 1'\u001b[0m\u001b[1;33m,\u001b[0m \u001b[0my\u001b[0m \u001b[1;33m=\u001b[0m \u001b[1;36m1.2\u001b[0m\u001b[1;33m)\u001b[0m\u001b[1;33m\u001b[0m\u001b[0m\n\u001b[0m\u001b[0;32m      3\u001b[0m \u001b[0max\u001b[0m\u001b[1;33m[\u001b[0m\u001b[1;36m0\u001b[0m\u001b[1;33m]\u001b[0m\u001b[1;33m[\u001b[0m\u001b[1;36m1\u001b[0m\u001b[1;33m]\u001b[0m\u001b[1;33m.\u001b[0m\u001b[0mset_title\u001b[0m\u001b[1;33m(\u001b[0m\u001b[1;34m'Lab Test 1'\u001b[0m\u001b[1;33m,\u001b[0m \u001b[0my\u001b[0m \u001b[1;33m=\u001b[0m \u001b[1;36m1.2\u001b[0m\u001b[1;33m)\u001b[0m\u001b[1;33m\u001b[0m\u001b[0m\n\u001b[0;32m      4\u001b[0m \u001b[0max\u001b[0m\u001b[1;33m[\u001b[0m\u001b[1;36m0\u001b[0m\u001b[1;33m]\u001b[0m\u001b[1;33m[\u001b[0m\u001b[1;36m2\u001b[0m\u001b[1;33m]\u001b[0m\u001b[1;33m.\u001b[0m\u001b[0mset_title\u001b[0m\u001b[1;33m(\u001b[0m\u001b[1;34m'Lab Test 1'\u001b[0m\u001b[1;33m,\u001b[0m \u001b[0my\u001b[0m \u001b[1;33m=\u001b[0m \u001b[1;36m1.2\u001b[0m\u001b[1;33m)\u001b[0m\u001b[1;33m\u001b[0m\u001b[0m\n\u001b[0;32m      5\u001b[0m \u001b[1;33m\u001b[0m\u001b[0m\n",
      "\u001b[1;31mTypeError\u001b[0m: 'AxesSubplot' object does not support indexing"
     ]
    },
    {
     "data": {
      "image/png": "[encoded data removed]",
      "text/plain": [
       "<Figure size 432x288 with 3 Axes>"
      ]
     },
     "metadata": {},
     "output_type": "display_data"
    }
   ],
   "source": [
    "fig, ax = plt.subplots(ncols = 3, nrows =1)\n",
    "ax[0][0].set_title('Lab Test 1', y = 1.2)\n",
    "ax[0][1].set_title('Lab Test 1', y = 1.2)\n",
    "ax[0][2].set_title('Lab Test 1', y = 1.2)\n",
    "\n",
    "sns.distplot(merged['lab_test_1'], ax = ax[0][0])\n",
    "sns.distplot(merged['lab_test_2'], ax = ax[0][1])\n",
    "sns.distplot(merged['lab_test_3'], ax = ax[0][2])\n",
    "\n",
    "plt.show()"
   ]
  },
  {
   "cell_type": "code",
   "execution_count": null,
   "metadata": {},
   "outputs": [],
   "source": []
  }
 ],
 "metadata": {
  "kernelspec": {
   "display_name": "Python 3",
   "language": "python",
   "name": "python3"
  },
  "language_info": {
   "codemirror_mode": {
    "name": "ipython",
    "version": 3
   },
   "file_extension": ".py",
   "mimetype": "text/x-python",
   "name": "python",
   "nbconvert_exporter": "python",
   "pygments_lexer": "ipython3",
   "version": "3.5.5"
  }
 },
 "nbformat": 4,
 "nbformat_minor": 2
}
