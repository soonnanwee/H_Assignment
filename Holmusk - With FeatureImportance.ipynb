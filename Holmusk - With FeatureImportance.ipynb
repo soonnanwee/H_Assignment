{
 "cells": [
  {
   "cell_type": "code",
   "execution_count": 1,
   "metadata": {},
   "outputs": [],
   "source": [
    "import numpy as np\n",
    "import scipy as sp\n",
    "import pandas as pd\n",
    "import seaborn as sns\n",
    "import matplotlib.pyplot as plt\n",
    "\n",
    "import os \n",
    "import sys\n",
    "import datetime as DT\n",
    "\n",
    "os.chdir(r'C:\\Users\\Asus\\Documents\\Holmusk data\\datasciencepositionatholmusk')\n",
    "bill_amount = pd.read_csv('bill_amount.csv')\n",
    "bill_id = pd.read_csv('bill_id.csv')\n",
    "clinical_data = pd.read_csv('clinical_data.csv')\n",
    "demo = pd.read_csv('demographics.csv')"
   ]
  },
  {
   "cell_type": "code",
   "execution_count": 2,
   "metadata": {},
   "outputs": [],
   "source": [
    "#convert to lowercase for ease of application\n",
    "demo.gender = demo.gender.apply(lambda x: x.lower())"
   ]
  },
  {
   "cell_type": "code",
   "execution_count": 3,
   "metadata": {},
   "outputs": [],
   "source": [
    "demo.race = demo.race.apply(lambda x: x.lower())"
   ]
  },
  {
   "cell_type": "code",
   "execution_count": 4,
   "metadata": {},
   "outputs": [],
   "source": [
    "demo.resident_status = demo.resident_status.apply(lambda x: x.lower())"
   ]
  },
  {
   "cell_type": "code",
   "execution_count": 5,
   "metadata": {},
   "outputs": [
    {
     "data": {
      "text/plain": [
       "female    1396\n",
       "male      1333\n",
       "m          170\n",
       "f          101\n",
       "Name: gender, dtype: int64"
      ]
     },
     "execution_count": 5,
     "metadata": {},
     "output_type": "execute_result"
    }
   ],
   "source": [
    "demo.gender.value_counts()"
   ]
  },
  {
   "cell_type": "code",
   "execution_count": 6,
   "metadata": {},
   "outputs": [
    {
     "data": {
      "text/plain": [
       "chinese    1915\n",
       "malay       629\n",
       "indian      195\n",
       "others      161\n",
       "india       100\n",
       "Name: race, dtype: int64"
      ]
     },
     "execution_count": 6,
     "metadata": {},
     "output_type": "execute_result"
    }
   ],
   "source": [
    "demo.race.value_counts()"
   ]
  },
  {
   "cell_type": "code",
   "execution_count": 7,
   "metadata": {},
   "outputs": [
    {
     "data": {
      "text/plain": [
       "singaporean          1782\n",
       "singapore citizen     610\n",
       "pr                    465\n",
       "foreigner             143\n",
       "Name: resident_status, dtype: int64"
      ]
     },
     "execution_count": 7,
     "metadata": {},
     "output_type": "execute_result"
    }
   ],
   "source": [
    "demo.resident_status.value_counts()"
   ]
  },
  {
   "cell_type": "code",
   "execution_count": 8,
   "metadata": {},
   "outputs": [],
   "source": [
    "demo.gender = demo.gender.apply(lambda x: 'male' if x == 'm' else('female' if x == 'f' else (x)))"
   ]
  },
  {
   "cell_type": "code",
   "execution_count": 9,
   "metadata": {},
   "outputs": [],
   "source": [
    "demo.race = demo.race.apply(lambda x: 'indian' if x == 'india' else(x))"
   ]
  },
  {
   "cell_type": "code",
   "execution_count": 10,
   "metadata": {},
   "outputs": [],
   "source": [
    "demo.resident_status = demo.resident_status.apply(lambda x: 'singaporean' if x == 'singapore citizen' else(x))"
   ]
  },
  {
   "cell_type": "code",
   "execution_count": 11,
   "metadata": {},
   "outputs": [],
   "source": [
    "demo.date_of_birth = demo.date_of_birth.astype('datetime64')"
   ]
  },
  {
   "cell_type": "code",
   "execution_count": 12,
   "metadata": {},
   "outputs": [],
   "source": [
    "now = pd.to_datetime('today').year\n",
    "demo['age'] = now - demo.date_of_birth.dt.year"
   ]
  },
  {
   "cell_type": "code",
   "execution_count": 13,
   "metadata": {},
   "outputs": [],
   "source": [
    "demo = demo.drop('date_of_birth', axis =1)"
   ]
  },
  {
   "cell_type": "code",
   "execution_count": 14,
   "metadata": {},
   "outputs": [],
   "source": [
    "demo = demo.set_index('patient_id')"
   ]
  },
  {
   "cell_type": "code",
   "execution_count": 15,
   "metadata": {},
   "outputs": [],
   "source": [
    "clinical_data = clinical_data.sort_values(['id', 'date_of_admission'])"
   ]
  },
  {
   "cell_type": "code",
   "execution_count": 16,
   "metadata": {},
   "outputs": [],
   "source": [
    "cd_dup = clinical_data[[not i for i in clinical_data.duplicated(subset = ['id'])]]"
   ]
  },
  {
   "cell_type": "code",
   "execution_count": 17,
   "metadata": {},
   "outputs": [],
   "source": [
    "cd_dup = cd_dup.fillna(value = 0)"
   ]
  },
  {
   "cell_type": "code",
   "execution_count": 18,
   "metadata": {},
   "outputs": [],
   "source": [
    "cd_dup.medical_history_3 = cd_dup.medical_history_3.apply(lambda x: x if type(x) == int else (1 if x == 'Yes' else (0)))"
   ]
  },
  {
   "cell_type": "code",
   "execution_count": 19,
   "metadata": {},
   "outputs": [],
   "source": [
    "cd_dup.medical_history_2 = cd_dup.medical_history_2.astype('int64')\n",
    "cd_dup.medical_history_5 = cd_dup.medical_history_5.astype('int64')"
   ]
  },
  {
   "cell_type": "code",
   "execution_count": 20,
   "metadata": {},
   "outputs": [],
   "source": [
    "cd_dup.date_of_admission = cd_dup.date_of_admission.astype('datetime64')\n",
    "cd_dup.date_of_discharge = cd_dup.date_of_discharge.astype('datetime64')"
   ]
  },
  {
   "cell_type": "code",
   "execution_count": 21,
   "metadata": {},
   "outputs": [],
   "source": [
    "cd_dup['inpatient_D'] = (cd_dup.date_of_discharge - cd_dup.date_of_admission).dt.days"
   ]
  },
  {
   "cell_type": "code",
   "execution_count": 22,
   "metadata": {},
   "outputs": [],
   "source": [
    "cd_dup['BMI'] = (cd_dup.weight/(cd_dup.height*cd_dup.height) * 10000)"
   ]
  },
  {
   "cell_type": "code",
   "execution_count": 23,
   "metadata": {},
   "outputs": [],
   "source": [
    "cd_dup = cd_dup.drop(['date_of_discharge', 'weight', 'height'], axis =1)"
   ]
  },
  {
   "cell_type": "code",
   "execution_count": 24,
   "metadata": {},
   "outputs": [],
   "source": [
    "cd_dup = cd_dup.set_index('id')"
   ]
  },
  {
   "cell_type": "code",
   "execution_count": 25,
   "metadata": {},
   "outputs": [],
   "source": [
    "joined = cd_dup.merge(demo, left_index = True, right_index = True)"
   ]
  },
  {
   "cell_type": "code",
   "execution_count": 26,
   "metadata": {},
   "outputs": [
    {
     "data": {
      "text/html": [
       "<div>\n",
       "<style scoped>\n",
       "    .dataframe tbody tr th:only-of-type {\n",
       "        vertical-align: middle;\n",
       "    }\n",
       "\n",
       "    .dataframe tbody tr th {\n",
       "        vertical-align: top;\n",
       "    }\n",
       "\n",
       "    .dataframe thead th {\n",
       "        text-align: right;\n",
       "    }\n",
       "</style>\n",
       "<table border=\"1\" class=\"dataframe\">\n",
       "  <thead>\n",
       "    <tr style=\"text-align: right;\">\n",
       "      <th></th>\n",
       "      <th>bill_id</th>\n",
       "      <th>date_of_admission</th>\n",
       "    </tr>\n",
       "    <tr>\n",
       "      <th>patient_id</th>\n",
       "      <th></th>\n",
       "      <th></th>\n",
       "    </tr>\n",
       "  </thead>\n",
       "  <tbody>\n",
       "    <tr>\n",
       "      <th>00225710a878eff524a1d13be817e8e2</th>\n",
       "      <td>8461069832</td>\n",
       "      <td>2014-04-10</td>\n",
       "    </tr>\n",
       "    <tr>\n",
       "      <th>00225710a878eff524a1d13be817e8e2</th>\n",
       "      <td>7746811189</td>\n",
       "      <td>2014-04-10</td>\n",
       "    </tr>\n",
       "    <tr>\n",
       "      <th>00225710a878eff524a1d13be817e8e2</th>\n",
       "      <td>4692776325</td>\n",
       "      <td>2014-04-10</td>\n",
       "    </tr>\n",
       "    <tr>\n",
       "      <th>00225710a878eff524a1d13be817e8e2</th>\n",
       "      <td>5175703971</td>\n",
       "      <td>2014-04-10</td>\n",
       "    </tr>\n",
       "    <tr>\n",
       "      <th>0029d90eb654699c18001c17efb0f129</th>\n",
       "      <td>3604841170</td>\n",
       "      <td>2012-11-07</td>\n",
       "    </tr>\n",
       "    <tr>\n",
       "      <th>0029d90eb654699c18001c17efb0f129</th>\n",
       "      <td>5621737529</td>\n",
       "      <td>2012-11-07</td>\n",
       "    </tr>\n",
       "    <tr>\n",
       "      <th>0029d90eb654699c18001c17efb0f129</th>\n",
       "      <td>5041212157</td>\n",
       "      <td>2012-11-07</td>\n",
       "    </tr>\n",
       "    <tr>\n",
       "      <th>0029d90eb654699c18001c17efb0f129</th>\n",
       "      <td>645202091</td>\n",
       "      <td>2012-11-07</td>\n",
       "    </tr>\n",
       "    <tr>\n",
       "      <th>0040333abd68527ecb53e1db9073f52e</th>\n",
       "      <td>167943546</td>\n",
       "      <td>2013-01-19</td>\n",
       "    </tr>\n",
       "    <tr>\n",
       "      <th>0040333abd68527ecb53e1db9073f52e</th>\n",
       "      <td>7549837665</td>\n",
       "      <td>2013-01-19</td>\n",
       "    </tr>\n",
       "    <tr>\n",
       "      <th>0040333abd68527ecb53e1db9073f52e</th>\n",
       "      <td>9921582850</td>\n",
       "      <td>2013-01-19</td>\n",
       "    </tr>\n",
       "    <tr>\n",
       "      <th>0040333abd68527ecb53e1db9073f52e</th>\n",
       "      <td>8199801360</td>\n",
       "      <td>2013-01-19</td>\n",
       "    </tr>\n",
       "    <tr>\n",
       "      <th>00473b58e3dc8ae37b3cb34069705083</th>\n",
       "      <td>7239419545</td>\n",
       "      <td>2014-02-10</td>\n",
       "    </tr>\n",
       "    <tr>\n",
       "      <th>00473b58e3dc8ae37b3cb34069705083</th>\n",
       "      <td>3108812506</td>\n",
       "      <td>2014-02-10</td>\n",
       "    </tr>\n",
       "    <tr>\n",
       "      <th>00473b58e3dc8ae37b3cb34069705083</th>\n",
       "      <td>5492890584</td>\n",
       "      <td>2014-02-10</td>\n",
       "    </tr>\n",
       "    <tr>\n",
       "      <th>00473b58e3dc8ae37b3cb34069705083</th>\n",
       "      <td>2831040803</td>\n",
       "      <td>2014-02-10</td>\n",
       "    </tr>\n",
       "    <tr>\n",
       "      <th>0078662d1d983dde68ea057c42d5b5cf</th>\n",
       "      <td>9476531069</td>\n",
       "      <td>2012-04-28</td>\n",
       "    </tr>\n",
       "    <tr>\n",
       "      <th>0078662d1d983dde68ea057c42d5b5cf</th>\n",
       "      <td>4580228676</td>\n",
       "      <td>2012-04-28</td>\n",
       "    </tr>\n",
       "    <tr>\n",
       "      <th>0078662d1d983dde68ea057c42d5b5cf</th>\n",
       "      <td>7289756776</td>\n",
       "      <td>2012-04-28</td>\n",
       "    </tr>\n",
       "    <tr>\n",
       "      <th>0078662d1d983dde68ea057c42d5b5cf</th>\n",
       "      <td>6208929668</td>\n",
       "      <td>2012-04-28</td>\n",
       "    </tr>\n",
       "    <tr>\n",
       "      <th>0088bbd94c90bbc9158e13465441ebb6</th>\n",
       "      <td>2127692752</td>\n",
       "      <td>2015-11-05</td>\n",
       "    </tr>\n",
       "    <tr>\n",
       "      <th>0088bbd94c90bbc9158e13465441ebb6</th>\n",
       "      <td>9839868745</td>\n",
       "      <td>2015-11-05</td>\n",
       "    </tr>\n",
       "    <tr>\n",
       "      <th>0088bbd94c90bbc9158e13465441ebb6</th>\n",
       "      <td>8244828782</td>\n",
       "      <td>2015-11-05</td>\n",
       "    </tr>\n",
       "    <tr>\n",
       "      <th>0088bbd94c90bbc9158e13465441ebb6</th>\n",
       "      <td>3073145832</td>\n",
       "      <td>2015-11-05</td>\n",
       "    </tr>\n",
       "    <tr>\n",
       "      <th>0092d20dd0719e88ecfdd02d5e7ca7b7</th>\n",
       "      <td>6475640623</td>\n",
       "      <td>2013-01-20</td>\n",
       "    </tr>\n",
       "    <tr>\n",
       "      <th>0092d20dd0719e88ecfdd02d5e7ca7b7</th>\n",
       "      <td>8770011184</td>\n",
       "      <td>2013-01-20</td>\n",
       "    </tr>\n",
       "    <tr>\n",
       "      <th>0092d20dd0719e88ecfdd02d5e7ca7b7</th>\n",
       "      <td>5424397887</td>\n",
       "      <td>2013-01-20</td>\n",
       "    </tr>\n",
       "    <tr>\n",
       "      <th>0092d20dd0719e88ecfdd02d5e7ca7b7</th>\n",
       "      <td>7555504451</td>\n",
       "      <td>2013-01-20</td>\n",
       "    </tr>\n",
       "    <tr>\n",
       "      <th>01081b8bcb0f9e27b888d23bb35a50dd</th>\n",
       "      <td>1089361296</td>\n",
       "      <td>2011-02-02</td>\n",
       "    </tr>\n",
       "    <tr>\n",
       "      <th>01081b8bcb0f9e27b888d23bb35a50dd</th>\n",
       "      <td>5844244730</td>\n",
       "      <td>2011-02-02</td>\n",
       "    </tr>\n",
       "    <tr>\n",
       "      <th>...</th>\n",
       "      <td>...</td>\n",
       "      <td>...</td>\n",
       "    </tr>\n",
       "    <tr>\n",
       "      <th>ff78b422b8c6b83e40f11ca7d62da682</th>\n",
       "      <td>4819028683</td>\n",
       "      <td>2013-04-25</td>\n",
       "    </tr>\n",
       "    <tr>\n",
       "      <th>ff78b422b8c6b83e40f11ca7d62da682</th>\n",
       "      <td>3509311233</td>\n",
       "      <td>2013-04-25</td>\n",
       "    </tr>\n",
       "    <tr>\n",
       "      <th>ff7a523f1dbd0385e731b4185cf64683</th>\n",
       "      <td>2381476995</td>\n",
       "      <td>2015-03-16</td>\n",
       "    </tr>\n",
       "    <tr>\n",
       "      <th>ff7a523f1dbd0385e731b4185cf64683</th>\n",
       "      <td>3726043063</td>\n",
       "      <td>2015-03-16</td>\n",
       "    </tr>\n",
       "    <tr>\n",
       "      <th>ff7a523f1dbd0385e731b4185cf64683</th>\n",
       "      <td>1582508538</td>\n",
       "      <td>2015-03-16</td>\n",
       "    </tr>\n",
       "    <tr>\n",
       "      <th>ff7a523f1dbd0385e731b4185cf64683</th>\n",
       "      <td>3972571344</td>\n",
       "      <td>2014-11-09</td>\n",
       "    </tr>\n",
       "    <tr>\n",
       "      <th>ff7a523f1dbd0385e731b4185cf64683</th>\n",
       "      <td>8871736386</td>\n",
       "      <td>2014-11-09</td>\n",
       "    </tr>\n",
       "    <tr>\n",
       "      <th>ff7a523f1dbd0385e731b4185cf64683</th>\n",
       "      <td>641768445</td>\n",
       "      <td>2015-03-16</td>\n",
       "    </tr>\n",
       "    <tr>\n",
       "      <th>ff7a523f1dbd0385e731b4185cf64683</th>\n",
       "      <td>9863869454</td>\n",
       "      <td>2014-11-09</td>\n",
       "    </tr>\n",
       "    <tr>\n",
       "      <th>ff7a523f1dbd0385e731b4185cf64683</th>\n",
       "      <td>7046020991</td>\n",
       "      <td>2014-11-09</td>\n",
       "    </tr>\n",
       "    <tr>\n",
       "      <th>ffa5a615a4cc5fb1ada0443edc1f5dd3</th>\n",
       "      <td>6517649270</td>\n",
       "      <td>2011-04-24</td>\n",
       "    </tr>\n",
       "    <tr>\n",
       "      <th>ffa5a615a4cc5fb1ada0443edc1f5dd3</th>\n",
       "      <td>2807666024</td>\n",
       "      <td>2011-04-24</td>\n",
       "    </tr>\n",
       "    <tr>\n",
       "      <th>ffa5a615a4cc5fb1ada0443edc1f5dd3</th>\n",
       "      <td>9308767013</td>\n",
       "      <td>2011-04-24</td>\n",
       "    </tr>\n",
       "    <tr>\n",
       "      <th>ffa5a615a4cc5fb1ada0443edc1f5dd3</th>\n",
       "      <td>9731377750</td>\n",
       "      <td>2011-04-24</td>\n",
       "    </tr>\n",
       "    <tr>\n",
       "      <th>ffac3c4b6838f42625e1dd00dd7c867b</th>\n",
       "      <td>459712708</td>\n",
       "      <td>2015-11-28</td>\n",
       "    </tr>\n",
       "    <tr>\n",
       "      <th>ffac3c4b6838f42625e1dd00dd7c867b</th>\n",
       "      <td>4741764838</td>\n",
       "      <td>2015-11-28</td>\n",
       "    </tr>\n",
       "    <tr>\n",
       "      <th>ffac3c4b6838f42625e1dd00dd7c867b</th>\n",
       "      <td>5003178012</td>\n",
       "      <td>2015-11-28</td>\n",
       "    </tr>\n",
       "    <tr>\n",
       "      <th>ffac3c4b6838f42625e1dd00dd7c867b</th>\n",
       "      <td>1794955297</td>\n",
       "      <td>2015-11-28</td>\n",
       "    </tr>\n",
       "    <tr>\n",
       "      <th>ffc19537fa6621512ef4f296d60896ce</th>\n",
       "      <td>4390614940</td>\n",
       "      <td>2013-05-05</td>\n",
       "    </tr>\n",
       "    <tr>\n",
       "      <th>ffc19537fa6621512ef4f296d60896ce</th>\n",
       "      <td>5687796410</td>\n",
       "      <td>2013-05-05</td>\n",
       "    </tr>\n",
       "    <tr>\n",
       "      <th>ffc19537fa6621512ef4f296d60896ce</th>\n",
       "      <td>61352096</td>\n",
       "      <td>2013-05-05</td>\n",
       "    </tr>\n",
       "    <tr>\n",
       "      <th>ffc19537fa6621512ef4f296d60896ce</th>\n",
       "      <td>2644289787</td>\n",
       "      <td>2013-05-05</td>\n",
       "    </tr>\n",
       "    <tr>\n",
       "      <th>ffd67c2bcfb32508d2cf7b1e1193e2ed</th>\n",
       "      <td>5401991269</td>\n",
       "      <td>2012-12-24</td>\n",
       "    </tr>\n",
       "    <tr>\n",
       "      <th>ffd67c2bcfb32508d2cf7b1e1193e2ed</th>\n",
       "      <td>6816431451</td>\n",
       "      <td>2012-12-24</td>\n",
       "    </tr>\n",
       "    <tr>\n",
       "      <th>ffd67c2bcfb32508d2cf7b1e1193e2ed</th>\n",
       "      <td>2161861615</td>\n",
       "      <td>2012-12-24</td>\n",
       "    </tr>\n",
       "    <tr>\n",
       "      <th>ffd67c2bcfb32508d2cf7b1e1193e2ed</th>\n",
       "      <td>4479145827</td>\n",
       "      <td>2012-12-24</td>\n",
       "    </tr>\n",
       "    <tr>\n",
       "      <th>ffd9644f8daf1d28493a7cd700bb30f4</th>\n",
       "      <td>7388693307</td>\n",
       "      <td>2013-06-04</td>\n",
       "    </tr>\n",
       "    <tr>\n",
       "      <th>ffd9644f8daf1d28493a7cd700bb30f4</th>\n",
       "      <td>6862282934</td>\n",
       "      <td>2013-06-04</td>\n",
       "    </tr>\n",
       "    <tr>\n",
       "      <th>ffd9644f8daf1d28493a7cd700bb30f4</th>\n",
       "      <td>7406466784</td>\n",
       "      <td>2013-06-04</td>\n",
       "    </tr>\n",
       "    <tr>\n",
       "      <th>ffd9644f8daf1d28493a7cd700bb30f4</th>\n",
       "      <td>7767844278</td>\n",
       "      <td>2013-06-04</td>\n",
       "    </tr>\n",
       "  </tbody>\n",
       "</table>\n",
       "<p>13600 rows × 2 columns</p>\n",
       "</div>"
      ],
      "text/plain": [
       "                                     bill_id date_of_admission\n",
       "patient_id                                                    \n",
       "00225710a878eff524a1d13be817e8e2  8461069832        2014-04-10\n",
       "00225710a878eff524a1d13be817e8e2  7746811189        2014-04-10\n",
       "00225710a878eff524a1d13be817e8e2  4692776325        2014-04-10\n",
       "00225710a878eff524a1d13be817e8e2  5175703971        2014-04-10\n",
       "0029d90eb654699c18001c17efb0f129  3604841170        2012-11-07\n",
       "0029d90eb654699c18001c17efb0f129  5621737529        2012-11-07\n",
       "0029d90eb654699c18001c17efb0f129  5041212157        2012-11-07\n",
       "0029d90eb654699c18001c17efb0f129   645202091        2012-11-07\n",
       "0040333abd68527ecb53e1db9073f52e   167943546        2013-01-19\n",
       "0040333abd68527ecb53e1db9073f52e  7549837665        2013-01-19\n",
       "0040333abd68527ecb53e1db9073f52e  9921582850        2013-01-19\n",
       "0040333abd68527ecb53e1db9073f52e  8199801360        2013-01-19\n",
       "00473b58e3dc8ae37b3cb34069705083  7239419545        2014-02-10\n",
       "00473b58e3dc8ae37b3cb34069705083  3108812506        2014-02-10\n",
       "00473b58e3dc8ae37b3cb34069705083  5492890584        2014-02-10\n",
       "00473b58e3dc8ae37b3cb34069705083  2831040803        2014-02-10\n",
       "0078662d1d983dde68ea057c42d5b5cf  9476531069        2012-04-28\n",
       "0078662d1d983dde68ea057c42d5b5cf  4580228676        2012-04-28\n",
       "0078662d1d983dde68ea057c42d5b5cf  7289756776        2012-04-28\n",
       "0078662d1d983dde68ea057c42d5b5cf  6208929668        2012-04-28\n",
       "0088bbd94c90bbc9158e13465441ebb6  2127692752        2015-11-05\n",
       "0088bbd94c90bbc9158e13465441ebb6  9839868745        2015-11-05\n",
       "0088bbd94c90bbc9158e13465441ebb6  8244828782        2015-11-05\n",
       "0088bbd94c90bbc9158e13465441ebb6  3073145832        2015-11-05\n",
       "0092d20dd0719e88ecfdd02d5e7ca7b7  6475640623        2013-01-20\n",
       "0092d20dd0719e88ecfdd02d5e7ca7b7  8770011184        2013-01-20\n",
       "0092d20dd0719e88ecfdd02d5e7ca7b7  5424397887        2013-01-20\n",
       "0092d20dd0719e88ecfdd02d5e7ca7b7  7555504451        2013-01-20\n",
       "01081b8bcb0f9e27b888d23bb35a50dd  1089361296        2011-02-02\n",
       "01081b8bcb0f9e27b888d23bb35a50dd  5844244730        2011-02-02\n",
       "...                                      ...               ...\n",
       "ff78b422b8c6b83e40f11ca7d62da682  4819028683        2013-04-25\n",
       "ff78b422b8c6b83e40f11ca7d62da682  3509311233        2013-04-25\n",
       "ff7a523f1dbd0385e731b4185cf64683  2381476995        2015-03-16\n",
       "ff7a523f1dbd0385e731b4185cf64683  3726043063        2015-03-16\n",
       "ff7a523f1dbd0385e731b4185cf64683  1582508538        2015-03-16\n",
       "ff7a523f1dbd0385e731b4185cf64683  3972571344        2014-11-09\n",
       "ff7a523f1dbd0385e731b4185cf64683  8871736386        2014-11-09\n",
       "ff7a523f1dbd0385e731b4185cf64683   641768445        2015-03-16\n",
       "ff7a523f1dbd0385e731b4185cf64683  9863869454        2014-11-09\n",
       "ff7a523f1dbd0385e731b4185cf64683  7046020991        2014-11-09\n",
       "ffa5a615a4cc5fb1ada0443edc1f5dd3  6517649270        2011-04-24\n",
       "ffa5a615a4cc5fb1ada0443edc1f5dd3  2807666024        2011-04-24\n",
       "ffa5a615a4cc5fb1ada0443edc1f5dd3  9308767013        2011-04-24\n",
       "ffa5a615a4cc5fb1ada0443edc1f5dd3  9731377750        2011-04-24\n",
       "ffac3c4b6838f42625e1dd00dd7c867b   459712708        2015-11-28\n",
       "ffac3c4b6838f42625e1dd00dd7c867b  4741764838        2015-11-28\n",
       "ffac3c4b6838f42625e1dd00dd7c867b  5003178012        2015-11-28\n",
       "ffac3c4b6838f42625e1dd00dd7c867b  1794955297        2015-11-28\n",
       "ffc19537fa6621512ef4f296d60896ce  4390614940        2013-05-05\n",
       "ffc19537fa6621512ef4f296d60896ce  5687796410        2013-05-05\n",
       "ffc19537fa6621512ef4f296d60896ce    61352096        2013-05-05\n",
       "ffc19537fa6621512ef4f296d60896ce  2644289787        2013-05-05\n",
       "ffd67c2bcfb32508d2cf7b1e1193e2ed  5401991269        2012-12-24\n",
       "ffd67c2bcfb32508d2cf7b1e1193e2ed  6816431451        2012-12-24\n",
       "ffd67c2bcfb32508d2cf7b1e1193e2ed  2161861615        2012-12-24\n",
       "ffd67c2bcfb32508d2cf7b1e1193e2ed  4479145827        2012-12-24\n",
       "ffd9644f8daf1d28493a7cd700bb30f4  7388693307        2013-06-04\n",
       "ffd9644f8daf1d28493a7cd700bb30f4  6862282934        2013-06-04\n",
       "ffd9644f8daf1d28493a7cd700bb30f4  7406466784        2013-06-04\n",
       "ffd9644f8daf1d28493a7cd700bb30f4  7767844278        2013-06-04\n",
       "\n",
       "[13600 rows x 2 columns]"
      ]
     },
     "execution_count": 26,
     "metadata": {},
     "output_type": "execute_result"
    }
   ],
   "source": [
    "bill_id['patient_id'] = bill_id.patient_id.astype(str)\n",
    "bill_id.set_index('patient_id').sort_index()"
   ]
  },
  {
   "cell_type": "code",
   "execution_count": 27,
   "metadata": {},
   "outputs": [],
   "source": [
    "bill = pd.merge(bill_id, bill_amount, on = 'bill_id')"
   ]
  },
  {
   "cell_type": "code",
   "execution_count": 28,
   "metadata": {},
   "outputs": [],
   "source": [
    "bill = bill.set_index('patient_id', 'date_of_admission').sort_index()"
   ]
  },
  {
   "cell_type": "code",
   "execution_count": 29,
   "metadata": {},
   "outputs": [],
   "source": [
    "bill = bill.drop('bill_id', axis =1 )"
   ]
  },
  {
   "cell_type": "code",
   "execution_count": 30,
   "metadata": {},
   "outputs": [],
   "source": [
    "bg = bill.groupby(['patient_id', 'date_of_admission']).amount.sum()"
   ]
  },
  {
   "cell_type": "code",
   "execution_count": 31,
   "metadata": {},
   "outputs": [],
   "source": [
    "bg_ri = bg.reset_index()"
   ]
  },
  {
   "cell_type": "code",
   "execution_count": 32,
   "metadata": {},
   "outputs": [],
   "source": [
    "bg_first = bg_ri[[not i for i in bg_ri.duplicated(subset = 'patient_id')]]"
   ]
  },
  {
   "cell_type": "code",
   "execution_count": 33,
   "metadata": {},
   "outputs": [],
   "source": [
    "bg_first = bg_first.set_index('patient_id')"
   ]
  },
  {
   "cell_type": "code",
   "execution_count": 34,
   "metadata": {},
   "outputs": [],
   "source": [
    "merged = joined.merge(bg_first, left_index = True, right_index = True)"
   ]
  },
  {
   "cell_type": "code",
   "execution_count": 35,
   "metadata": {},
   "outputs": [],
   "source": [
    "merged = merged.drop(['date_of_admission_x', 'date_of_admission_y'], axis = 1)"
   ]
  },
  {
   "cell_type": "code",
   "execution_count": 36,
   "metadata": {},
   "outputs": [
    {
     "name": "stderr",
     "output_type": "stream",
     "text": [
      "C:\\Users\\Asus\\Anaconda3\\envs\\tensorflow\\lib\\site-packages\\matplotlib\\axes\\_axes.py:6462: UserWarning: The 'normed' kwarg is deprecated, and has been replaced by the 'density' kwarg.\n",
      "  warnings.warn(\"The 'normed' kwarg is deprecated, and has been \"\n"
     ]
    },
    {
     "data": {
      "image/png": "[encoded data removed]",
      "text/plain": [
       "<Figure size 432x288 with 1 Axes>"
      ]
     },
     "metadata": {},
     "output_type": "display_data"
    }
   ],
   "source": [
    "distPlot = sns.distplot(merged['amount'])\n",
    "plt.title(\"Distribution of cost\")\n",
    "plt.show()"
   ]
  },
  {
   "cell_type": "code",
   "execution_count": 37,
   "metadata": {},
   "outputs": [
    {
     "data": {
      "text/plain": [
       "count     3000.000000\n",
       "mean     21798.335703\n",
       "std      10161.000119\n",
       "min       2946.100354\n",
       "25%      14665.890997\n",
       "50%      20101.522184\n",
       "75%      26733.192619\n",
       "max      98120.870207\n",
       "Name: amount, dtype: float64"
      ]
     },
     "execution_count": 37,
     "metadata": {},
     "output_type": "execute_result"
    }
   ],
   "source": [
    "merged.amount.describe()\n",
    "#NOTE: Handle outlier cases & assess for need to do log transformation"
   ]
  },
  {
   "cell_type": "code",
   "execution_count": 38,
   "metadata": {},
   "outputs": [
    {
     "name": "stderr",
     "output_type": "stream",
     "text": [
      "C:\\Users\\Asus\\Anaconda3\\envs\\tensorflow\\lib\\site-packages\\matplotlib\\axes\\_axes.py:6462: UserWarning: The 'normed' kwarg is deprecated, and has been replaced by the 'density' kwarg.\n",
      "  warnings.warn(\"The 'normed' kwarg is deprecated, and has been \"\n"
     ]
    },
    {
     "data": {
      "image/png": "[encoded data removed]",
      "text/plain": [
       "<Figure size 432x288 with 1 Axes>"
      ]
     },
     "metadata": {},
     "output_type": "display_data"
    }
   ],
   "source": [
    "distPlot_inD = sns.distplot(merged['inpatient_D'])\n",
    "plt.title(\"Distribution of inpatient duration\")\n",
    "plt.show()"
   ]
  },
  {
   "cell_type": "code",
   "execution_count": 39,
   "metadata": {},
   "outputs": [
    {
     "data": {
      "text/plain": [
       "count    3000.000000\n",
       "mean       11.078667\n",
       "std         2.855497\n",
       "min         1.000000\n",
       "25%         9.000000\n",
       "50%        11.000000\n",
       "75%        13.000000\n",
       "max        20.000000\n",
       "Name: inpatient_D, dtype: float64"
      ]
     },
     "execution_count": 39,
     "metadata": {},
     "output_type": "execute_result"
    }
   ],
   "source": [
    "merged.inpatient_D.describe()"
   ]
  },
  {
   "cell_type": "code",
   "execution_count": 40,
   "metadata": {},
   "outputs": [
    {
     "name": "stderr",
     "output_type": "stream",
     "text": [
      "C:\\Users\\Asus\\Anaconda3\\envs\\tensorflow\\lib\\site-packages\\matplotlib\\axes\\_axes.py:6462: UserWarning: The 'normed' kwarg is deprecated, and has been replaced by the 'density' kwarg.\n",
      "  warnings.warn(\"The 'normed' kwarg is deprecated, and has been \"\n"
     ]
    },
    {
     "data": {
      "image/png": "[encoded data removed]",
      "text/plain": [
       "<Figure size 432x288 with 1 Axes>"
      ]
     },
     "metadata": {},
     "output_type": "display_data"
    }
   ],
   "source": [
    "distPlot_bmi = sns.distplot(merged['BMI'])\n",
    "plt.title(\"Distribution of BMI\")\n",
    "plt.show()"
   ]
  },
  {
   "cell_type": "code",
   "execution_count": 41,
   "metadata": {
    "scrolled": false
   },
   "outputs": [
    {
     "data": {
      "text/plain": [
       "count    3000.000000\n",
       "mean       28.955222\n",
       "std         4.144775\n",
       "min        17.508651\n",
       "25%        26.161927\n",
       "50%        28.921908\n",
       "75%        31.675212\n",
       "max        46.677349\n",
       "Name: BMI, dtype: float64"
      ]
     },
     "execution_count": 41,
     "metadata": {},
     "output_type": "execute_result"
    }
   ],
   "source": [
    "merged.BMI.describe()"
   ]
  },
  {
   "cell_type": "code",
   "execution_count": 47,
   "metadata": {
    "scrolled": true
   },
   "outputs": [
    {
     "data": {
      "image/png": "[encoded data removed]",
      "text/plain": [
       "<Figure size 432x288 with 1 Axes>"
      ]
     },
     "metadata": {},
     "output_type": "display_data"
    }
   ],
   "source": [
    "ax = merged['lab_result_1'].hist(density=True, stacked=True, color='teal', alpha=0.6)\n",
    "merged['lab_result_1'].plot(kind='density', color='teal')\n",
    "ax = merged['lab_result_2'].hist(density=True, stacked=True, color='orange', alpha=0.5)\n",
    "merged['lab_result_2'].plot(kind='density', color='orange')\n",
    "ax = merged['lab_result_3'].hist(density=True, stacked=True, color='purple', alpha=0.5)\n",
    "merged['lab_result_3'].plot(kind='density', color='purple')\n",
    "ax.set(xlabel='Results for the 3 lab tests')\n",
    "plt.xlim(5, 140)\n",
    "plt.show()\n",
    "#Most likely the 3 tests are different"
   ]
  },
  {
   "cell_type": "code",
   "execution_count": 55,
   "metadata": {},
   "outputs": [],
   "source": [
    "#Normalization of numerical columns. Not done on categorical variables for variable inference \n",
    "#Choose samples which lie within 3 standard deviations from the mean of normalized variables to preserve sample numbers \n",
    "import scipy as sp\n",
    "\n",
    "numerical_columns = ['amount', 'inpatient_D', 'BMI', 'lab_result_1', 'lab_result_2', 'lab_result_3']\n",
    "merged_normed = merged[(np.abs(sp.stats.zscore(merged[numerical_columns])) < 3).all(axis=1)]"
   ]
  },
  {
   "cell_type": "code",
   "execution_count": 56,
   "metadata": {
    "scrolled": true
   },
   "outputs": [
    {
     "data": {
      "text/html": [
       "<div>\n",
       "<style scoped>\n",
       "    .dataframe tbody tr th:only-of-type {\n",
       "        vertical-align: middle;\n",
       "    }\n",
       "\n",
       "    .dataframe tbody tr th {\n",
       "        vertical-align: top;\n",
       "    }\n",
       "\n",
       "    .dataframe thead th {\n",
       "        text-align: right;\n",
       "    }\n",
       "</style>\n",
       "<table border=\"1\" class=\"dataframe\">\n",
       "  <thead>\n",
       "    <tr style=\"text-align: right;\">\n",
       "      <th></th>\n",
       "      <th>medical_history_1</th>\n",
       "      <th>medical_history_2</th>\n",
       "      <th>medical_history_3</th>\n",
       "      <th>medical_history_4</th>\n",
       "      <th>medical_history_5</th>\n",
       "      <th>medical_history_6</th>\n",
       "      <th>medical_history_7</th>\n",
       "      <th>preop_medication_1</th>\n",
       "      <th>preop_medication_2</th>\n",
       "      <th>preop_medication_3</th>\n",
       "      <th>...</th>\n",
       "      <th>symptom_3</th>\n",
       "      <th>symptom_4</th>\n",
       "      <th>symptom_5</th>\n",
       "      <th>lab_result_1</th>\n",
       "      <th>lab_result_2</th>\n",
       "      <th>lab_result_3</th>\n",
       "      <th>inpatient_D</th>\n",
       "      <th>BMI</th>\n",
       "      <th>age</th>\n",
       "      <th>amount</th>\n",
       "    </tr>\n",
       "  </thead>\n",
       "  <tbody>\n",
       "    <tr>\n",
       "      <th>count</th>\n",
       "      <td>2307.000000</td>\n",
       "      <td>2307.000000</td>\n",
       "      <td>2307.000000</td>\n",
       "      <td>2307.000000</td>\n",
       "      <td>2307.000000</td>\n",
       "      <td>2307.000000</td>\n",
       "      <td>2307.000000</td>\n",
       "      <td>2307.000000</td>\n",
       "      <td>2307.000000</td>\n",
       "      <td>2307.000000</td>\n",
       "      <td>...</td>\n",
       "      <td>2307.000000</td>\n",
       "      <td>2307.000000</td>\n",
       "      <td>2307.000000</td>\n",
       "      <td>2307.000000</td>\n",
       "      <td>2307.000000</td>\n",
       "      <td>2307.000000</td>\n",
       "      <td>2307.000000</td>\n",
       "      <td>2307.000000</td>\n",
       "      <td>2307.000000</td>\n",
       "      <td>2307.000000</td>\n",
       "    </tr>\n",
       "    <tr>\n",
       "      <th>mean</th>\n",
       "      <td>0.159515</td>\n",
       "      <td>0.281751</td>\n",
       "      <td>0.036411</td>\n",
       "      <td>0.054616</td>\n",
       "      <td>0.057651</td>\n",
       "      <td>0.245774</td>\n",
       "      <td>0.247074</td>\n",
       "      <td>0.501084</td>\n",
       "      <td>0.592111</td>\n",
       "      <td>0.823147</td>\n",
       "      <td>...</td>\n",
       "      <td>0.537061</td>\n",
       "      <td>0.716515</td>\n",
       "      <td>0.513221</td>\n",
       "      <td>14.458994</td>\n",
       "      <td>27.420416</td>\n",
       "      <td>99.628955</td>\n",
       "      <td>11.066753</td>\n",
       "      <td>28.796201</td>\n",
       "      <td>57.047681</td>\n",
       "      <td>20521.425913</td>\n",
       "    </tr>\n",
       "    <tr>\n",
       "      <th>std</th>\n",
       "      <td>0.366235</td>\n",
       "      <td>0.449950</td>\n",
       "      <td>0.187351</td>\n",
       "      <td>0.227279</td>\n",
       "      <td>0.233132</td>\n",
       "      <td>0.430638</td>\n",
       "      <td>0.431404</td>\n",
       "      <td>0.500107</td>\n",
       "      <td>0.491549</td>\n",
       "      <td>0.381627</td>\n",
       "      <td>...</td>\n",
       "      <td>0.498733</td>\n",
       "      <td>0.450787</td>\n",
       "      <td>0.499934</td>\n",
       "      <td>1.614473</td>\n",
       "      <td>2.198510</td>\n",
       "      <td>13.581791</td>\n",
       "      <td>2.562296</td>\n",
       "      <td>3.573605</td>\n",
       "      <td>14.552605</td>\n",
       "      <td>7859.621289</td>\n",
       "    </tr>\n",
       "    <tr>\n",
       "      <th>min</th>\n",
       "      <td>0.000000</td>\n",
       "      <td>0.000000</td>\n",
       "      <td>0.000000</td>\n",
       "      <td>0.000000</td>\n",
       "      <td>0.000000</td>\n",
       "      <td>0.000000</td>\n",
       "      <td>0.000000</td>\n",
       "      <td>0.000000</td>\n",
       "      <td>0.000000</td>\n",
       "      <td>0.000000</td>\n",
       "      <td>...</td>\n",
       "      <td>0.000000</td>\n",
       "      <td>0.000000</td>\n",
       "      <td>0.000000</td>\n",
       "      <td>11.000000</td>\n",
       "      <td>22.600000</td>\n",
       "      <td>70.000000</td>\n",
       "      <td>6.000000</td>\n",
       "      <td>20.690444</td>\n",
       "      <td>28.000000</td>\n",
       "      <td>2946.100354</td>\n",
       "    </tr>\n",
       "    <tr>\n",
       "      <th>25%</th>\n",
       "      <td>0.000000</td>\n",
       "      <td>0.000000</td>\n",
       "      <td>0.000000</td>\n",
       "      <td>0.000000</td>\n",
       "      <td>0.000000</td>\n",
       "      <td>0.000000</td>\n",
       "      <td>0.000000</td>\n",
       "      <td>0.000000</td>\n",
       "      <td>0.000000</td>\n",
       "      <td>1.000000</td>\n",
       "      <td>...</td>\n",
       "      <td>0.000000</td>\n",
       "      <td>0.000000</td>\n",
       "      <td>0.000000</td>\n",
       "      <td>13.250000</td>\n",
       "      <td>25.800000</td>\n",
       "      <td>89.000000</td>\n",
       "      <td>9.000000</td>\n",
       "      <td>26.280617</td>\n",
       "      <td>45.000000</td>\n",
       "      <td>14384.507269</td>\n",
       "    </tr>\n",
       "    <tr>\n",
       "      <th>50%</th>\n",
       "      <td>0.000000</td>\n",
       "      <td>0.000000</td>\n",
       "      <td>0.000000</td>\n",
       "      <td>0.000000</td>\n",
       "      <td>0.000000</td>\n",
       "      <td>0.000000</td>\n",
       "      <td>0.000000</td>\n",
       "      <td>1.000000</td>\n",
       "      <td>1.000000</td>\n",
       "      <td>1.000000</td>\n",
       "      <td>...</td>\n",
       "      <td>1.000000</td>\n",
       "      <td>1.000000</td>\n",
       "      <td>1.000000</td>\n",
       "      <td>14.500000</td>\n",
       "      <td>27.400000</td>\n",
       "      <td>100.000000</td>\n",
       "      <td>11.000000</td>\n",
       "      <td>28.800000</td>\n",
       "      <td>55.000000</td>\n",
       "      <td>19578.371459</td>\n",
       "    </tr>\n",
       "    <tr>\n",
       "      <th>75%</th>\n",
       "      <td>0.000000</td>\n",
       "      <td>1.000000</td>\n",
       "      <td>0.000000</td>\n",
       "      <td>0.000000</td>\n",
       "      <td>0.000000</td>\n",
       "      <td>0.000000</td>\n",
       "      <td>0.000000</td>\n",
       "      <td>1.000000</td>\n",
       "      <td>1.000000</td>\n",
       "      <td>1.000000</td>\n",
       "      <td>...</td>\n",
       "      <td>1.000000</td>\n",
       "      <td>1.000000</td>\n",
       "      <td>1.000000</td>\n",
       "      <td>15.700000</td>\n",
       "      <td>29.000000</td>\n",
       "      <td>110.000000</td>\n",
       "      <td>13.000000</td>\n",
       "      <td>31.379989</td>\n",
       "      <td>69.000000</td>\n",
       "      <td>25716.706015</td>\n",
       "    </tr>\n",
       "    <tr>\n",
       "      <th>max</th>\n",
       "      <td>1.000000</td>\n",
       "      <td>1.000000</td>\n",
       "      <td>1.000000</td>\n",
       "      <td>1.000000</td>\n",
       "      <td>1.000000</td>\n",
       "      <td>1.000000</td>\n",
       "      <td>1.000000</td>\n",
       "      <td>1.000000</td>\n",
       "      <td>1.000000</td>\n",
       "      <td>1.000000</td>\n",
       "      <td>...</td>\n",
       "      <td>1.000000</td>\n",
       "      <td>1.000000</td>\n",
       "      <td>1.000000</td>\n",
       "      <td>17.900000</td>\n",
       "      <td>32.300000</td>\n",
       "      <td>129.000000</td>\n",
       "      <td>16.000000</td>\n",
       "      <td>37.191351</td>\n",
       "      <td>88.000000</td>\n",
       "      <td>42042.921967</td>\n",
       "    </tr>\n",
       "  </tbody>\n",
       "</table>\n",
       "<p>8 rows × 25 columns</p>\n",
       "</div>"
      ],
      "text/plain": [
       "       medical_history_1  medical_history_2  medical_history_3  \\\n",
       "count        2307.000000        2307.000000        2307.000000   \n",
       "mean            0.159515           0.281751           0.036411   \n",
       "std             0.366235           0.449950           0.187351   \n",
       "min             0.000000           0.000000           0.000000   \n",
       "25%             0.000000           0.000000           0.000000   \n",
       "50%             0.000000           0.000000           0.000000   \n",
       "75%             0.000000           1.000000           0.000000   \n",
       "max             1.000000           1.000000           1.000000   \n",
       "\n",
       "       medical_history_4  medical_history_5  medical_history_6  \\\n",
       "count        2307.000000        2307.000000        2307.000000   \n",
       "mean            0.054616           0.057651           0.245774   \n",
       "std             0.227279           0.233132           0.430638   \n",
       "min             0.000000           0.000000           0.000000   \n",
       "25%             0.000000           0.000000           0.000000   \n",
       "50%             0.000000           0.000000           0.000000   \n",
       "75%             0.000000           0.000000           0.000000   \n",
       "max             1.000000           1.000000           1.000000   \n",
       "\n",
       "       medical_history_7  preop_medication_1  preop_medication_2  \\\n",
       "count        2307.000000         2307.000000         2307.000000   \n",
       "mean            0.247074            0.501084            0.592111   \n",
       "std             0.431404            0.500107            0.491549   \n",
       "min             0.000000            0.000000            0.000000   \n",
       "25%             0.000000            0.000000            0.000000   \n",
       "50%             0.000000            1.000000            1.000000   \n",
       "75%             0.000000            1.000000            1.000000   \n",
       "max             1.000000            1.000000            1.000000   \n",
       "\n",
       "       preop_medication_3      ...         symptom_3    symptom_4  \\\n",
       "count         2307.000000      ...       2307.000000  2307.000000   \n",
       "mean             0.823147      ...          0.537061     0.716515   \n",
       "std              0.381627      ...          0.498733     0.450787   \n",
       "min              0.000000      ...          0.000000     0.000000   \n",
       "25%              1.000000      ...          0.000000     0.000000   \n",
       "50%              1.000000      ...          1.000000     1.000000   \n",
       "75%              1.000000      ...          1.000000     1.000000   \n",
       "max              1.000000      ...          1.000000     1.000000   \n",
       "\n",
       "         symptom_5  lab_result_1  lab_result_2  lab_result_3  inpatient_D  \\\n",
       "count  2307.000000   2307.000000   2307.000000   2307.000000  2307.000000   \n",
       "mean      0.513221     14.458994     27.420416     99.628955    11.066753   \n",
       "std       0.499934      1.614473      2.198510     13.581791     2.562296   \n",
       "min       0.000000     11.000000     22.600000     70.000000     6.000000   \n",
       "25%       0.000000     13.250000     25.800000     89.000000     9.000000   \n",
       "50%       1.000000     14.500000     27.400000    100.000000    11.000000   \n",
       "75%       1.000000     15.700000     29.000000    110.000000    13.000000   \n",
       "max       1.000000     17.900000     32.300000    129.000000    16.000000   \n",
       "\n",
       "               BMI          age        amount  \n",
       "count  2307.000000  2307.000000   2307.000000  \n",
       "mean     28.796201    57.047681  20521.425913  \n",
       "std       3.573605    14.552605   7859.621289  \n",
       "min      20.690444    28.000000   2946.100354  \n",
       "25%      26.280617    45.000000  14384.507269  \n",
       "50%      28.800000    55.000000  19578.371459  \n",
       "75%      31.379989    69.000000  25716.706015  \n",
       "max      37.191351    88.000000  42042.921967  \n",
       "\n",
       "[8 rows x 25 columns]"
      ]
     },
     "execution_count": 56,
     "metadata": {},
     "output_type": "execute_result"
    }
   ],
   "source": [
    "merged_normed.describe()"
   ]
  },
  {
   "cell_type": "code",
   "execution_count": 57,
   "metadata": {
    "scrolled": true
   },
   "outputs": [
    {
     "name": "stderr",
     "output_type": "stream",
     "text": [
      "C:\\Users\\Asus\\Anaconda3\\envs\\tensorflow\\lib\\site-packages\\matplotlib\\axes\\_axes.py:6462: UserWarning: The 'normed' kwarg is deprecated, and has been replaced by the 'density' kwarg.\n",
      "  warnings.warn(\"The 'normed' kwarg is deprecated, and has been \"\n"
     ]
    },
    {
     "data": {
      "image/png": "[encoded data removed]",
      "text/plain": [
       "<Figure size 432x288 with 1 Axes>"
      ]
     },
     "metadata": {},
     "output_type": "display_data"
    }
   ],
   "source": [
    "distPlot_cost_normed = sns.distplot(merged_normed['amount'])\n",
    "plt.title(\"Distribution of standardized cost\")\n",
    "plt.show()"
   ]
  },
  {
   "cell_type": "code",
   "execution_count": 58,
   "metadata": {},
   "outputs": [
    {
     "data": {
      "text/plain": [
       "medical_history_1     1.860998\n",
       "medical_history_2     0.970944\n",
       "medical_history_3     4.953178\n",
       "medical_history_4     3.922665\n",
       "medical_history_5     3.798131\n",
       "medical_history_6     1.181719\n",
       "medical_history_7     1.173589\n",
       "preop_medication_1   -0.004337\n",
       "preop_medication_2   -0.375104\n",
       "preop_medication_3   -1.694992\n",
       "preop_medication_4   -0.066834\n",
       "preop_medication_5   -1.626471\n",
       "preop_medication_6   -1.097127\n",
       "symptom_1            -0.480887\n",
       "symptom_2            -0.668587\n",
       "symptom_3            -0.148750\n",
       "symptom_4            -0.961441\n",
       "symptom_5            -0.052935\n",
       "lab_result_1         -0.063330\n",
       "lab_result_2         -0.004155\n",
       "lab_result_3         -0.005032\n",
       "inpatient_D           0.030688\n",
       "BMI                   0.008862\n",
       "age                   0.302126\n",
       "amount                0.452053\n",
       "dtype: float64"
      ]
     },
     "execution_count": 58,
     "metadata": {},
     "output_type": "execute_result"
    }
   ],
   "source": [
    "merged_normed.skew()"
   ]
  },
  {
   "cell_type": "code",
   "execution_count": 59,
   "metadata": {},
   "outputs": [],
   "source": [
    "Data = merged.reset_index().drop('index', axis =1)"
   ]
  },
  {
   "cell_type": "code",
   "execution_count": 60,
   "metadata": {},
   "outputs": [],
   "source": [
    "to_encode = ['gender', 'race', 'resident_status']\n",
    "Data_encoded = pd.get_dummies(Data, columns = to_encode)"
   ]
  },
  {
   "cell_type": "code",
   "execution_count": 63,
   "metadata": {},
   "outputs": [
    {
     "name": "stderr",
     "output_type": "stream",
     "text": [
      "C:\\Users\\Asus\\Anaconda3\\envs\\tensorflow\\lib\\site-packages\\ipykernel_launcher.py:5: FutureWarning: Method .as_matrix will be removed in a future version. Use .values instead.\n",
      "  \"\"\"\n"
     ]
    }
   ],
   "source": [
    "from sklearn import linear_model\n",
    "from sklearn import datasets\n",
    "\n",
    "X = Data_encoded.drop('amount', axis =1)\n",
    "X_ = X.as_matrix()\n",
    "Y = Data_encoded.loc[:, 'amount'].astype('int64')"
   ]
  },
  {
   "cell_type": "code",
   "execution_count": 64,
   "metadata": {},
   "outputs": [],
   "source": [
    "X_headers = list(X)"
   ]
  },
  {
   "cell_type": "code",
   "execution_count": 83,
   "metadata": {},
   "outputs": [
    {
     "data": {
      "text/plain": [
       "array([0.00808754, 0.03276708, 0.00851716, 0.0108599 , 0.00929451,\n",
       "       0.01529104, 0.02334998, 0.03723962, 0.0295777 , 0.02631034,\n",
       "       0.0229524 , 0.02002366, 0.0292636 , 0.03236529, 0.03397837,\n",
       "       0.03502844, 0.02536441, 0.0150884 , 0.06995184, 0.07748226,\n",
       "       0.0733724 , 0.06964623, 0.07368747, 0.07911353, 0.02489672,\n",
       "       0.02304489, 0.02160728, 0.01129275, 0.01815354, 0.00843148,\n",
       "       0.00446999, 0.01419235, 0.01529782])"
      ]
     },
     "execution_count": 83,
     "metadata": {},
     "output_type": "execute_result"
    }
   ],
   "source": [
    "from sklearn.ensemble import ExtraTreesClassifier\n",
    "from sklearn.feature_selection import SelectFromModel\n",
    "\n",
    "clf = ExtraTreesClassifier()\n",
    "clf = clf.fit(X_, Y)\n",
    "clf.feature_importances_\n"
   ]
  },
  {
   "cell_type": "code",
   "execution_count": 84,
   "metadata": {},
   "outputs": [],
   "source": [
    "clf_coefs = list(clf.feature_importances_)\n",
    "b = list(zip(X_headers,clf_coefs))\n",
    "clf_fi = pd.DataFrame(data = b, columns = ['Variable', 'Feature Importance']).sort_values('Feature Importance')"
   ]
  },
  {
   "cell_type": "code",
   "execution_count": 90,
   "metadata": {},
   "outputs": [
    {
     "data": {
      "text/html": [
       "<div>\n",
       "<style scoped>\n",
       "    .dataframe tbody tr th:only-of-type {\n",
       "        vertical-align: middle;\n",
       "    }\n",
       "\n",
       "    .dataframe tbody tr th {\n",
       "        vertical-align: top;\n",
       "    }\n",
       "\n",
       "    .dataframe thead th {\n",
       "        text-align: right;\n",
       "    }\n",
       "</style>\n",
       "<table border=\"1\" class=\"dataframe\">\n",
       "  <thead>\n",
       "    <tr style=\"text-align: right;\">\n",
       "      <th></th>\n",
       "      <th>Variable</th>\n",
       "      <th>Feature Importance</th>\n",
       "    </tr>\n",
       "  </thead>\n",
       "  <tbody>\n",
       "    <tr>\n",
       "      <th>18</th>\n",
       "      <td>lab_result_1</td>\n",
       "      <td>0.069952</td>\n",
       "    </tr>\n",
       "    <tr>\n",
       "      <th>20</th>\n",
       "      <td>lab_result_3</td>\n",
       "      <td>0.073372</td>\n",
       "    </tr>\n",
       "    <tr>\n",
       "      <th>22</th>\n",
       "      <td>BMI</td>\n",
       "      <td>0.073687</td>\n",
       "    </tr>\n",
       "    <tr>\n",
       "      <th>19</th>\n",
       "      <td>lab_result_2</td>\n",
       "      <td>0.077482</td>\n",
       "    </tr>\n",
       "    <tr>\n",
       "      <th>23</th>\n",
       "      <td>age</td>\n",
       "      <td>0.079114</td>\n",
       "    </tr>\n",
       "  </tbody>\n",
       "</table>\n",
       "</div>"
      ],
      "text/plain": [
       "        Variable  Feature Importance\n",
       "18  lab_result_1            0.069952\n",
       "20  lab_result_3            0.073372\n",
       "22           BMI            0.073687\n",
       "19  lab_result_2            0.077482\n",
       "23           age            0.079114"
      ]
     },
     "execution_count": 90,
     "metadata": {},
     "output_type": "execute_result"
    }
   ],
   "source": [
    "clf_fi.tail()"
   ]
  },
  {
   "cell_type": "code",
   "execution_count": 93,
   "metadata": {},
   "outputs": [
    {
     "name": "stdout",
     "output_type": "stream",
     "text": [
      "Feature ranking:\n",
      "1. feature 23 (0.079114)\n",
      "2. feature 19 (0.077482)\n",
      "3. feature 22 (0.073687)\n",
      "4. feature 20 (0.073372)\n",
      "5. feature 18 (0.069952)\n",
      "6. feature 21 (0.069646)\n",
      "7. feature 7 (0.037240)\n",
      "8. feature 15 (0.035028)\n",
      "9. feature 14 (0.033978)\n",
      "10. feature 1 (0.032767)\n",
      "11. feature 13 (0.032365)\n",
      "12. feature 8 (0.029578)\n",
      "13. feature 12 (0.029264)\n",
      "14. feature 9 (0.026310)\n",
      "15. feature 16 (0.025364)\n",
      "16. feature 24 (0.024897)\n",
      "17. feature 6 (0.023350)\n",
      "18. feature 25 (0.023045)\n",
      "19. feature 10 (0.022952)\n",
      "20. feature 26 (0.021607)\n",
      "21. feature 11 (0.020024)\n",
      "22. feature 28 (0.018154)\n",
      "23. feature 32 (0.015298)\n",
      "24. feature 5 (0.015291)\n",
      "25. feature 17 (0.015088)\n",
      "26. feature 31 (0.014192)\n",
      "27. feature 27 (0.011293)\n",
      "28. feature 3 (0.010860)\n",
      "29. feature 4 (0.009295)\n",
      "30. feature 2 (0.008517)\n",
      "31. feature 29 (0.008431)\n",
      "32. feature 0 (0.008088)\n",
      "33. feature 30 (0.004470)\n"
     ]
    },
    {
     "data": {
      "image/png": "[encoded data removed]",
      "text/plain": [
       "<Figure size 432x288 with 1 Axes>"
      ]
     },
     "metadata": {},
     "output_type": "display_data"
    }
   ],
   "source": [
    "importances = clf.feature_importances_\n",
    "stdev = np.std([tree.feature_importances_ for tree in clf.estimators_], axis=0)\n",
    "indices = np.argsort(importances)[::-1]\n",
    "\n",
    "# Print the feature ranking\n",
    "print(\"Feature ranking:\")\n",
    "\n",
    "for f in range(X_.shape[1]):\n",
    "    print(\"%d. % (%f)\" % (f + 1, indices[f], importances[indices[f]]))\n",
    "\n",
    "# Plot the feature importances of the forest\n",
    "plt.figure()\n",
    "plt.title(\"Feature importances\")\n",
    "plt.bar(range(X.shape[1]), importances[indices],\n",
    "       color=\"r\", yerr=stdev[indices], align=\"center\")\n",
    "plt.xticks(range(X.shape[1]), indices)\n",
    "plt.xlim([-1, X.shape[1]])\n",
    "plt.show()"
   ]
  },
  {
   "cell_type": "code",
   "execution_count": null,
   "metadata": {},
   "outputs": [],
   "source": []
  }
 ],
 "metadata": {
  "kernelspec": {
   "display_name": "Python 3",
   "language": "python",
   "name": "python3"
  },
  "language_info": {
   "codemirror_mode": {
    "name": "ipython",
    "version": 3
   },
   "file_extension": ".py",
   "mimetype": "text/x-python",
   "name": "python",
   "nbconvert_exporter": "python",
   "pygments_lexer": "ipython3",
   "version": "3.5.5"
  }
 },
 "nbformat": 4,
 "nbformat_minor": 2
}
